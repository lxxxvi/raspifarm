{
 "cells": [
  {
   "cell_type": "markdown",
   "metadata": {},
   "source": [
    "# DIGIT PREPROCESSING"
   ]
  },
  {
   "cell_type": "markdown",
   "metadata": {},
   "source": [
    "## Imports"
   ]
  },
  {
   "cell_type": "code",
   "execution_count": 1,
   "metadata": {
    "collapsed": false
   },
   "outputs": [],
   "source": [
    "from PIL                import Image, ImageFilter\n",
    "from IPython.display    import Image as show\n",
    "import numpy as np\n",
    "from IPython.display    import display"
   ]
  },
  {
   "cell_type": "markdown",
   "metadata": {},
   "source": [
    "## Functions"
   ]
  },
  {
   "cell_type": "code",
   "execution_count": 2,
   "metadata": {
    "collapsed": false
   },
   "outputs": [],
   "source": [
    "def preview(img, title = ''):\n",
    "    pix_path = '/tmp/pix_output.png'\n",
    "    img.save(pix_path)\n",
    "    pic = show(filename=pix_path)\n",
    "    if title != '': print title\n",
    "    display(pic)"
   ]
  },
  {
   "cell_type": "code",
   "execution_count": 3,
   "metadata": {
    "collapsed": true
   },
   "outputs": [],
   "source": [
    "def black_and_white(img, threshold = 128):\n",
    "    gray = img.convert('L')        # convert the RGB image to grayscale image\n",
    "    bw = np.asarray(gray).copy()   # read the grayscale image into an array\n",
    "\n",
    "    bw[bw < threshold]  = 0        # Black\n",
    "    bw[bw >= threshold] = 255      # White\n",
    "\n",
    "    img = Image.fromarray(bw)\n",
    "    return img"
   ]
  },
  {
   "cell_type": "code",
   "execution_count": 4,
   "metadata": {
    "collapsed": false
   },
   "outputs": [],
   "source": [
    "def resize(img, x, y, antialias = None):\n",
    "    img.thumbnail((x, y), antialias) if antialias else img.thumbnail((x, y))\n",
    "    return img"
   ]
  },
  {
   "cell_type": "code",
   "execution_count": 5,
   "metadata": {
    "collapsed": true
   },
   "outputs": [],
   "source": [
    "def gaussian_blur(img, radius):\n",
    "    img = img.filter(ImageFilter.GaussianBlur(radius))\n",
    "    return img"
   ]
  },
  {
   "cell_type": "code",
   "execution_count": 6,
   "metadata": {
    "collapsed": true
   },
   "outputs": [],
   "source": [
    "def sharpen(img):\n",
    "    img.filter(ImageFilter.SHARPEN)\n",
    "    return img"
   ]
  },
  {
   "cell_type": "code",
   "execution_count": 7,
   "metadata": {
    "collapsed": true
   },
   "outputs": [],
   "source": [
    "def print_ascii(img):\n",
    "    arr = np.asarray(img).copy()\n",
    "    for row in arr:\n",
    "        line = ''\n",
    "        for cell in row:\n",
    "            result = 0\n",
    "            if cell == 0:\n",
    "                result = 1\n",
    "            line = line + str(result)\n",
    "        print line"
   ]
  },
  {
   "cell_type": "code",
   "execution_count": 45,
   "metadata": {
    "collapsed": false
   },
   "outputs": [],
   "source": [
    "def add_frame(img, border_width = 0, pad_with = 255):\n",
    "    arr = np.asarray(img).copy()\n",
    "    new_array = np.pad(arr, 4, mode='constant', constant_values=pad_with)\n",
    "    \n",
    "    img = Image.fromarray(new_array)\n",
    "    return img"
   ]
  },
  {
   "cell_type": "markdown",
   "metadata": {},
   "source": [
    "## Digit image paths"
   ]
  },
  {
   "cell_type": "code",
   "execution_count": 8,
   "metadata": {
    "collapsed": true
   },
   "outputs": [],
   "source": [
    "DIGITS_FOLDER = '/home/farmer/raspifarm/resources/images/digits'\n",
    "\n",
    "digitPathFor = {\n",
    "    \"0\": DIGITS_FOLDER + '/digit_0_64x64.jpg',\n",
    "    \"1\": DIGITS_FOLDER + '/digit_1_64x64.jpg',\n",
    "    \"2\": DIGITS_FOLDER + '/digit_2_64x64.jpg',\n",
    "    \"3\": DIGITS_FOLDER + '/digit_3_64x64.jpg',\n",
    "    \"4\": DIGITS_FOLDER + '/digit_4_64x64.jpg',\n",
    "    \"5\": DIGITS_FOLDER + '/digit_5_64x64.jpg',\n",
    "    \"6\": DIGITS_FOLDER + '/digit_6_64x64.jpg',\n",
    "    \"7\": DIGITS_FOLDER + '/digit_7_64x64.jpg',\n",
    "    \"8\": DIGITS_FOLDER + '/digit_8_64x64.jpg',\n",
    "    \"9\": DIGITS_FOLDER + '/digit_9_64x64.jpg'\n",
    "}"
   ]
  },
  {
   "cell_type": "code",
   "execution_count": 9,
   "metadata": {
    "collapsed": false
   },
   "outputs": [
    {
     "data": {
      "image/jpeg": "[encoded data removed]",
      "text/plain": [
       "<IPython.core.display.Image object>"
      ]
     },
     "execution_count": 9,
     "metadata": {},
     "output_type": "execute_result"
    }
   ],
   "source": [
    "# Example, show a digit\n",
    "show(digitPathFor['8'])"
   ]
  },
  {
   "cell_type": "markdown",
   "metadata": {},
   "source": [
    "## Preprocess a digit"
   ]
  },
  {
   "cell_type": "code",
   "execution_count": 49,
   "metadata": {
    "collapsed": false,
    "scrolled": true
   },
   "outputs": [
    {
     "name": "stdout",
     "output_type": "stream",
     "text": [
      "original\n"
     ]
    },
    {
     "data": {
      "image/png": "[encoded data removed]",
      "text/plain": [
       "<IPython.core.display.Image object>"
      ]
     },
     "metadata": {},
     "output_type": "display_data"
    },
    {
     "name": "stdout",
     "output_type": "stream",
     "text": [
      "b/w on original\n"
     ]
    },
    {
     "data": {
      "image/png": "[encoded data removed]",
      "text/plain": [
       "<IPython.core.display.Image object>"
      ]
     },
     "metadata": {},
     "output_type": "display_data"
    },
    {
     "name": "stdout",
     "output_type": "stream",
     "text": [
      "blurred\n"
     ]
    },
    {
     "data": {
      "image/png": "[encoded data removed]",
      "text/plain": [
       "<IPython.core.display.Image object>"
      ]
     },
     "metadata": {},
     "output_type": "display_data"
    },
    {
     "name": "stdout",
     "output_type": "stream",
     "text": [
      "sharpened\n"
     ]
    },
    {
     "data": {
      "image/png": "[encoded data removed]",
      "text/plain": [
       "<IPython.core.display.Image object>"
      ]
     },
     "metadata": {},
     "output_type": "display_data"
    },
    {
     "name": "stdout",
     "output_type": "stream",
     "text": [
      "bw on blurred/sharpened\n"
     ]
    },
    {
     "data": {
      "image/png": "[encoded data removed]",
      "text/plain": [
       "<IPython.core.display.Image object>"
      ]
     },
     "metadata": {},
     "output_type": "display_data"
    },
    {
     "name": "stdout",
     "output_type": "stream",
     "text": [
      "resized\n"
     ]
    },
    {
     "data": {
      "image/png": "[encoded data removed]",
      "text/plain": [
       "<IPython.core.display.Image object>"
      ]
     },
     "metadata": {},
     "output_type": "display_data"
    },
    {
     "name": "stdout",
     "output_type": "stream",
     "text": [
      "bw on blurred/sharpened/resized\n"
     ]
    },
    {
     "data": {
      "image/png": "[encoded data removed]",
      "text/plain": [
       "<IPython.core.display.Image object>"
      ]
     },
     "metadata": {},
     "output_type": "display_data"
    },
    {
     "name": "stdout",
     "output_type": "stream",
     "text": [
      "with white frame of 4\n"
     ]
    },
    {
     "data": {
      "image/png": "[encoded data removed]",
      "text/plain": [
       "<IPython.core.display.Image object>"
      ]
     },
     "metadata": {},
     "output_type": "display_data"
    },
    {
     "name": "stdout",
     "output_type": "stream",
     "text": [
      "ASCII (28x28)\n",
      "0000000000000000000000000000\n",
      "0000000000000000000000000000\n",
      "0000000000000000000000000000\n",
      "0000000000000000000000000000\n",
      "0000000000011110000000000000\n",
      "0000000001111111100000000000\n",
      "0000000001111111100000000000\n",
      "0000000000000001110000000000\n",
      "0000000000000000100000000000\n",
      "0000000000000001100000000000\n",
      "0000000000000011110000000000\n",
      "0000000000000111111000000000\n",
      "0000000000000111111000000000\n",
      "0000000000000000111100000000\n",
      "0000000000000000011100000000\n",
      "0000000000000000001100000000\n",
      "0000000000000000001100000000\n",
      "0000000000000000000100000000\n",
      "0000000000000000001100000000\n",
      "0000000110000000001100000000\n",
      "0000000111000000011100000000\n",
      "0000000111110001111000000000\n",
      "0000000001111111110000000000\n",
      "0000000000011111000000000000\n",
      "0000000000000000000000000000\n",
      "0000000000000000000000000000\n",
      "0000000000000000000000000000\n",
      "0000000000000000000000000000\n"
     ]
    }
   ],
   "source": [
    "input_digit             = digitPathFor['3']\n",
    "BW_OUTPUT_PATH          = '/tmp/bw_digit.png'\n",
    "RESIZED_OUTPUT_PATH     = '/tmp/bw_resized_digit.png'\n",
    "\n",
    "# Open the digit file and print it\n",
    "digit = Image.open(input_digit)\n",
    "\n",
    "preview(digit, 'original')\n",
    "\n",
    "digit = black_and_white(digit, 144)\n",
    "preview(digit, 'b/w on original')\n",
    "\n",
    "digit = gaussian_blur(digit, 6)\n",
    "preview(digit, 'blurred')\n",
    "\n",
    "digit = sharpen(digit)\n",
    "preview(digit, 'sharpened')\n",
    "\n",
    "digit = black_and_white(digit, 192)\n",
    "preview(digit, 'bw on blurred/sharpened')\n",
    "\n",
    "digit = resize(digit, 20, 20)\n",
    "preview(digit, 'resized')\n",
    "\n",
    "digit = black_and_white(digit, 96)\n",
    "preview(digit, 'bw on blurred/sharpened/resized')\n",
    "\n",
    "digit = add_frame(digit)\n",
    "preview(digit, 'with white frame of 4')\n",
    "\n",
    "print 'ASCII (28x28)'\n",
    "print_ascii(digit)\n",
    "\n"
   ]
  },
  {
   "cell_type": "code",
   "execution_count": null,
   "metadata": {
    "collapsed": true
   },
   "outputs": [],
   "source": []
  }
 ],
 "metadata": {
  "kernelspec": {
   "display_name": "Python 2",
   "language": "python",
   "name": "python2"
  },
  "language_info": {
   "codemirror_mode": {
    "name": "ipython",
    "version": 2
   },
   "file_extension": ".py",
   "mimetype": "text/x-python",
   "name": "python",
   "nbconvert_exporter": "python",
   "pygments_lexer": "ipython2",
   "version": "2.7.9"
  }
 },
 "nbformat": 4,
 "nbformat_minor": 0
}
