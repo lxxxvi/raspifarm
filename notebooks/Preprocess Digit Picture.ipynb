{
 "cells": [
  {
   "cell_type": "markdown",
   "metadata": {},
   "source": [
    "# DIGIT PREPROCESSING"
   ]
  },
  {
   "cell_type": "markdown",
   "metadata": {},
   "source": [
    "## Imports"
   ]
  },
  {
   "cell_type": "code",
   "execution_count": 23,
   "metadata": {
    "collapsed": false
   },
   "outputs": [],
   "source": [
    "from PIL                import Image, ImageFilter\n",
    "from IPython.display    import Image as show\n",
    "import numpy as np\n",
    "from IPython.display    import display\n",
    "import picamera\n",
    "import os\n",
    "import math"
   ]
  },
  {
   "cell_type": "markdown",
   "metadata": {},
   "source": [
    "## Functions"
   ]
  },
  {
   "cell_type": "code",
   "execution_count": 2,
   "metadata": {
    "collapsed": false
   },
   "outputs": [],
   "source": [
    "def preview(img, title = ''):\n",
    "    pix_path = '/tmp/preview_output.png'\n",
    "    img.save(pix_path)\n",
    "    pic = show(filename=pix_path)\n",
    "    if title != '': print title\n",
    "    display(pic)"
   ]
  },
  {
   "cell_type": "code",
   "execution_count": 3,
   "metadata": {
    "collapsed": true
   },
   "outputs": [],
   "source": [
    "def black_and_white(img, threshold = 128):\n",
    "    gray = img.convert('L')        # convert the RGB image to grayscale image\n",
    "    bw = np.asarray(gray).copy()   # read the grayscale image into an array\n",
    "\n",
    "    bw[bw < threshold]  = 0        # Black\n",
    "    bw[bw >= threshold] = 255      # White\n",
    "\n",
    "    img = Image.fromarray(bw)\n",
    "    return img"
   ]
  },
  {
   "cell_type": "code",
   "execution_count": 4,
   "metadata": {
    "collapsed": false
   },
   "outputs": [],
   "source": [
    "def resize(img, x, y, antialias = None):\n",
    "    img.thumbnail((x, y), antialias) if antialias else img.thumbnail((x, y))\n",
    "    return img"
   ]
  },
  {
   "cell_type": "code",
   "execution_count": 5,
   "metadata": {
    "collapsed": true
   },
   "outputs": [],
   "source": [
    "def gaussian_blur(img, radius):\n",
    "    img = img.filter(ImageFilter.GaussianBlur(radius))\n",
    "    return img"
   ]
  },
  {
   "cell_type": "code",
   "execution_count": 6,
   "metadata": {
    "collapsed": true
   },
   "outputs": [],
   "source": [
    "def sharpen(img):\n",
    "    img.filter(ImageFilter.SHARPEN)\n",
    "    return img"
   ]
  },
  {
   "cell_type": "code",
   "execution_count": 7,
   "metadata": {
    "collapsed": true
   },
   "outputs": [],
   "source": [
    "def print_ascii(img):\n",
    "    arr = np.asarray(img).copy()\n",
    "    print_array_dimensions(arr)\n",
    "    for row in arr:\n",
    "        line = ''\n",
    "        for cell in row:\n",
    "            result = 0\n",
    "            if cell == 0:\n",
    "                result = 1\n",
    "            line = line + str(result)\n",
    "        print line"
   ]
  },
  {
   "cell_type": "code",
   "execution_count": 8,
   "metadata": {
    "collapsed": false
   },
   "outputs": [],
   "source": [
    "def add_frame(img, border_width = 0, pad_with = 255):\n",
    "    arr = np.asarray(img).copy()\n",
    "    new_array = np.pad(arr, 4, mode='constant', constant_values=pad_with)\n",
    "    \n",
    "    img = Image.fromarray(new_array)\n",
    "    return img"
   ]
  },
  {
   "cell_type": "code",
   "execution_count": 69,
   "metadata": {
    "collapsed": true
   },
   "outputs": [],
   "source": [
    "def print_array_dimensions(a):\n",
    "    print \"(%s, %s)\" % (len(a[0]), len(a))"
   ]
  },
  {
   "cell_type": "code",
   "execution_count": 10,
   "metadata": {
    "collapsed": true
   },
   "outputs": [],
   "source": [
    "def crop_to_minimum(image, threshold):\n",
    "    \n",
    "    preview(image, 'Image to crop')\n",
    "    \n",
    "    image = black_and_white(image, threshold)\n",
    "    preview(image, 'Black and white image (using threshold = ' +  str(threshold) + ')')\n",
    "    \n",
    "    img_array = np.asarray(image).copy()\n",
    "    img_array = img_array[~np.all(img_array == 255, axis=1)]\n",
    "    img_array = img_array[:,~np.all(img_array == 255, axis=0)]\n",
    "    cropped_image = Image.fromarray(img_array)\n",
    "    return cropped_image    "
   ]
  },
  {
   "cell_type": "code",
   "execution_count": 74,
   "metadata": {
    "collapsed": false
   },
   "outputs": [],
   "source": [
    "def fit_into_square(img, square_size):\n",
    "    resized_img = resize(img, square_size, square_size)\n",
    "    new_width, new_height = resized_img.size\n",
    "    \n",
    "    delta = square_size - new_width\n",
    "    pad_left  = int(math.floor(float(delta) / 2))\n",
    "    pad_right = int(math.ceil(float(delta) / 2))\n",
    "    img_array = np.asarray(resized_img).copy()\n",
    "    img_array = np.pad(img_array, ((0,0), (pad_left, pad_right)), mode='constant', constant_values=255)\n",
    "    \n",
    "    squared_image = Image.fromarray(img_array)\n",
    "    return squared_image"
   ]
  },
  {
   "cell_type": "code",
   "execution_count": 77,
   "metadata": {
    "collapsed": false,
    "scrolled": true
   },
   "outputs": [],
   "source": [
    "def process_cropped_digit(path_or_image):\n",
    "    digit = path_or_image\n",
    "    \n",
    "    if(type(path_or_image) == type('')):\n",
    "        digit = Image.open(input_digit)\n",
    "\n",
    "    preview(digit, 'original')\n",
    "\n",
    "    digit = black_and_white(digit, 144)\n",
    "    preview(digit, 'b/w on original')\n",
    "\n",
    "    digit = gaussian_blur(digit, 6)\n",
    "    preview(digit, 'blurred')\n",
    "\n",
    "    digit = sharpen(digit)\n",
    "    preview(digit, 'sharpened')\n",
    "\n",
    "    digit = black_and_white(digit, 192)\n",
    "    preview(digit, 'bw on blurred/sharpened')\n",
    "\n",
    "    digit = fit_into_square(digit, 20)\n",
    "    preview(digit, 'resized and fit into square format')\n",
    "\n",
    "    digit = black_and_white(digit, 96)\n",
    "    preview(digit, 'bw on blurred/sharpened/resized')\n",
    "\n",
    "    print_ascii(digit)\n",
    "\n",
    "    digit = add_frame(digit)\n",
    "    preview(digit, 'with white frame of 4')\n",
    "\n",
    "    print_ascii(digit)"
   ]
  },
  {
   "cell_type": "code",
   "execution_count": 12,
   "metadata": {
    "collapsed": false
   },
   "outputs": [],
   "source": [
    "def take_a_pic():\n",
    "    PICAM_OUTPUT_PATH = '/tmp/picam.jpg'\n",
    "    os.remove(PICAM_OUTPUT_PATH)\n",
    "    \n",
    "    with picamera.PiCamera() as camera:\n",
    "        camera.resolution = (512,512)\n",
    "        camera.capture(PICAM_OUTPUT_PATH)\n",
    "\n",
    "    image = Image.open(PICAM_OUTPUT_PATH)\n",
    "    return image"
   ]
  },
  {
   "cell_type": "markdown",
   "metadata": {},
   "source": [
    "## Digit image paths"
   ]
  },
  {
   "cell_type": "code",
   "execution_count": 13,
   "metadata": {
    "collapsed": true
   },
   "outputs": [],
   "source": [
    "DIGITS_FOLDER = '/home/farmer/raspifarm/resources/images/digits'\n",
    "\n",
    "digitPathFor = {\n",
    "    \"0\": DIGITS_FOLDER + '/digit_0_64x64.jpg',\n",
    "    \"1\": DIGITS_FOLDER + '/digit_1_64x64.jpg',\n",
    "    \"2\": DIGITS_FOLDER + '/digit_2_64x64.jpg',\n",
    "    \"3\": DIGITS_FOLDER + '/digit_3_64x64.jpg',\n",
    "    \"4\": DIGITS_FOLDER + '/digit_4_64x64.jpg',\n",
    "    \"5\": DIGITS_FOLDER + '/digit_5_64x64.jpg',\n",
    "    \"6\": DIGITS_FOLDER + '/digit_6_64x64.jpg',\n",
    "    \"7\": DIGITS_FOLDER + '/digit_7_64x64.jpg',\n",
    "    \"8\": DIGITS_FOLDER + '/digit_8_64x64.jpg',\n",
    "    \"9\": DIGITS_FOLDER + '/digit_9_64x64.jpg'\n",
    "}"
   ]
  },
  {
   "cell_type": "code",
   "execution_count": 14,
   "metadata": {
    "collapsed": false
   },
   "outputs": [
    {
     "data": {
      "image/jpeg": "[encoded data removed]",
      "text/plain": [
       "<IPython.core.display.Image object>"
      ]
     },
     "execution_count": 14,
     "metadata": {},
     "output_type": "execute_result"
    }
   ],
   "source": [
    "# Example, show a digit\n",
    "show(digitPathFor['3'])"
   ]
  },
  {
   "cell_type": "markdown",
   "metadata": {},
   "source": [
    "## Preprocess a predefined digit"
   ]
  },
  {
   "cell_type": "code",
   "execution_count": null,
   "metadata": {
    "collapsed": false
   },
   "outputs": [],
   "source": [
    "process_cropped_digit(digitPathFor['2'])"
   ]
  },
  {
   "cell_type": "markdown",
   "metadata": {
    "collapsed": true
   },
   "source": [
    "# Take a picture from Picamera and process it"
   ]
  },
  {
   "cell_type": "code",
   "execution_count": null,
   "metadata": {
    "collapsed": false
   },
   "outputs": [],
   "source": [
    "camera_pic = take_a_pic()\n",
    "preview(camera_pic, 'Recorded image')\n",
    "\n",
    "cropped_image = crop_to_minimum(camera_pic, 100)\n",
    "preview(cropped_image, 'Cropped image')\n",
    "\n",
    "processed_image = process_cropped_digit(cropped_image)"
   ]
  },
  {
   "cell_type": "code",
   "execution_count": 43,
   "metadata": {
    "collapsed": false
   },
   "outputs": [
    {
     "name": "stdout",
     "output_type": "stream",
     "text": [
      "squared\n"
     ]
    },
    {
     "data": {
      "image/png": "[encoded data removed]",
      "text/plain": [
       "<IPython.core.display.Image object>"
      ]
     },
     "metadata": {},
     "output_type": "display_data"
    }
   ],
   "source": [
    "img = Image.open('/tmp/preview_output.png')\n",
    "img = fit_in_square(img, 20)\n",
    "\n",
    "preview(img, 'squared')"
   ]
  },
  {
   "cell_type": "code",
   "execution_count": null,
   "metadata": {
    "collapsed": true
   },
   "outputs": [],
   "source": []
  }
 ],
 "metadata": {
  "kernelspec": {
   "display_name": "Python 2",
   "language": "python",
   "name": "python2"
  },
  "language_info": {
   "codemirror_mode": {
    "name": "ipython",
    "version": 2
   },
   "file_extension": ".py",
   "mimetype": "text/x-python",
   "name": "python",
   "nbconvert_exporter": "python",
   "pygments_lexer": "ipython2",
   "version": "2.7.9"
  }
 },
 "nbformat": 4,
 "nbformat_minor": 0
}
