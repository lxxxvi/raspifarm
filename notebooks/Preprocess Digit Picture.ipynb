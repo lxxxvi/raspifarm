{
 "cells": [
  {
   "cell_type": "code",
   "execution_count": 77,
   "metadata": {
    "collapsed": true
   },
   "outputs": [],
   "source": [
    "from PIL import Image, ImageFilter\n",
    "from IPython.display import Image as show\n",
    "import numpy as np"
   ]
  },
  {
   "cell_type": "code",
   "execution_count": 19,
   "metadata": {
    "collapsed": false
   },
   "outputs": [],
   "source": [
    "def show_pil_image(pil_image):\n",
    "  pil_image.save('/tmp/pil_image.jpg')\n",
    "  show('/tmp/pil_image.jpg')"
   ]
  },
  {
   "cell_type": "code",
   "execution_count": 5,
   "metadata": {
    "collapsed": true
   },
   "outputs": [],
   "source": [
    "# All paths\n",
    "digitPathFor = {\n",
    "    \"0\": '/home/farmer/Images/handwritten/digit_0_64x64.jpg',\n",
    "    \"1\": '/home/farmer/Images/handwritten/digit_1_64x64.jpg',\n",
    "    \"2\": '/home/farmer/Images/handwritten/digit_2_64x64.jpg',\n",
    "    \"3\": '/home/farmer/Images/handwritten/digit_3_64x64.jpg',\n",
    "    \"4\": '/home/farmer/Images/handwritten/digit_4_64x64.jpg',\n",
    "    \"5\": '/home/farmer/Images/handwritten/digit_5_64x64.jpg',\n",
    "    \"6\": '/home/farmer/Images/handwritten/digit_6_64x64.jpg',\n",
    "    \"7\": '/home/farmer/Images/handwritten/digit_7_64x64.jpg',\n",
    "    \"8\": '/home/farmer/Images/handwritten/digit_8_64x64.jpg',\n",
    "    \"9\": '/home/farmer/Images/handwritten/digit_9_64x64.jpg'\n",
    "}"
   ]
  },
  {
   "cell_type": "code",
   "execution_count": 15,
   "metadata": {
    "collapsed": false
   },
   "outputs": [
    {
     "data": {
      "image/jpeg": "[encoded data removed]",
      "text/plain": [
       "<IPython.core.display.Image object>"
      ]
     },
     "execution_count": 15,
     "metadata": {},
     "output_type": "execute_result"
    }
   ],
   "source": [
    "# Example, show a digit\n",
    "show(digitPathFor['5'])"
   ]
  },
  {
   "cell_type": "code",
   "execution_count": 84,
   "metadata": {
    "collapsed": false
   },
   "outputs": [],
   "source": [
    "\n",
    "'''\n",
    "# load image\n",
    "digitImage = Image.open(digitPathFor['5'])\n",
    "\n",
    "# blur image\n",
    "digitImage = digitImage.filter(ImageFilter.BLUR)\n",
    "\n",
    "# resize\n",
    "target_width, target_height = 24, 24\n",
    "digitImage = digitImage.resize((target_width, target_height), Image.ANTIALIAS)\n",
    "\n",
    "# convert to b/w\n",
    "digitImage = digitImage.convert('1')\n",
    "# digitImage = digitImage.point(lambda x: 0 if x < 128 else 255, '1')\n",
    "digitImage.save('/home/farmer/Images/black_and_white.png')\n",
    "'''\n",
    "\n",
    "col = Image.open(digitPathFor['5'])\n",
    "gray = col.convert('L')\n",
    "\n",
    "# Let numpy do the heavy lifting for converting pixels to pure black or white\n",
    "bw = np.asarray(gray).copy()\n",
    "\n",
    "# Pixel range is 0...255, 256/2 = 128\n",
    "bw[bw < 128] = 0    # Black\n",
    "bw[bw >= 128] = 255 # White\n",
    "\n",
    "# Now we put it back in Pillow/PIL land\n",
    "imfile = Image.fromarray(bw)\n",
    "imfile.save('/home/farmer/Images/black_and_white.png')\n",
    "\n"
   ]
  },
  {
   "cell_type": "code",
   "execution_count": 83,
   "metadata": {
    "collapsed": false
   },
   "outputs": [
    {
     "name": "stdout",
     "output_type": "stream",
     "text": [
      "24\n"
     ]
    }
   ],
   "source": [
    "I = np.asarray(Image.open('/home/farmer/Images/black_and_white.png'))\n",
    "print len(I)\n",
    "# for row in I:\n",
    "#    print row\n",
    "#    print \"\\n\""
   ]
  },
  {
   "cell_type": "code",
   "execution_count": 68,
   "metadata": {
    "collapsed": false
   },
   "outputs": [
    {
     "name": "stdout",
     "output_type": "stream",
     "text": [
      "[ True  True  True  True  True  True  True  True  True  True  True  True\n",
      "  True  True  True  True  True  True  True  True  True  True  True  True]\n",
      "\n",
      "\n",
      "[ True  True  True  True  True  True  True  True  True  True  True  True\n",
      "  True  True  True  True  True  True  True  True  True  True  True  True]\n",
      "\n",
      "\n",
      "[ True  True  True  True  True  True  True  True  True  True  True  True\n",
      "  True  True  True  True  True  True  True  True  True  True  True  True]\n",
      "\n",
      "\n",
      "[False  True  True  True  True  True  True False  True  True False False\n",
      "  True  True  True  True  True  True  True  True False False False False]\n",
      "\n",
      "\n",
      "[ True  True  True  True  True False False False  True False False False\n",
      " False False False False  True  True  True  True  True  True  True  True]\n",
      "\n",
      "\n",
      "[False False False False  True  True  True  True False False False False\n",
      " False False False False  True  True  True  True  True  True  True False]\n",
      "\n",
      "\n",
      "[ True  True  True  True  True  True  True  True  True  True  True  True\n",
      " False False False False  True  True  True  True  True False False False]\n",
      "\n",
      "\n",
      "[ True False False False False False False False  True  True  True  True\n",
      "  True  True  True  True False False False False  True  True  True  True]\n",
      "\n",
      "\n",
      "[False False False False False False False False  True  True  True  True\n",
      "  True  True  True False  True  True  True False  True  True  True  True]\n",
      "\n",
      "\n",
      "[ True  True  True  True False False False False  True  True  True  True\n",
      "  True  True  True  True  True False False False False False False False]\n",
      "\n",
      "\n",
      "[ True  True  True  True  True  True  True  True False False False False\n",
      "  True  True  True  True False False False False False False False False]\n",
      "\n",
      "\n",
      "[ True  True  True  True  True  True  True False  True  True  True  True\n",
      "  True  True  True  True  True  True  True  True False False False False]\n",
      "\n",
      "\n",
      "[False  True  True  True  True False False False  True False False False\n",
      " False False False False  True  True  True  True  True  True  True  True]\n",
      "\n",
      "\n",
      "[False False False False  True  True  True  True False False False False\n",
      " False False False False  True  True  True  True  True  True  True False]\n",
      "\n",
      "\n",
      "[ True  True  True  True  True  True  True  True  True  True  True  True\n",
      " False False False False  True  True  True  True  True False False False]\n",
      "\n",
      "\n",
      "[ True False False False False False False False  True  True  True  True\n",
      "  True  True  True  True False False False False  True  True  True  True]\n",
      "\n",
      "\n",
      "[False False False False False False False False  True  True  True  True\n",
      "  True  True  True False  True  True  True  True  True  True  True  True]\n",
      "\n",
      "\n",
      "[ True  True  True  True False False False False  True  True  True  True\n",
      "  True False False False  True False False False False False False False]\n",
      "\n",
      "\n",
      "[ True  True  True  True  True  True  True  True False False False False\n",
      "  True  True  True  True False False False False False False False False]\n",
      "\n",
      "\n",
      "[ True  True  True  True  True  True  True False  True  True  True  True\n",
      "  True  True  True  True  True  True  True  True False False False False]\n",
      "\n",
      "\n",
      "[ True  True  True  True  True False False False  True False False False\n",
      " False False False False  True  True  True  True  True  True  True  True]\n",
      "\n",
      "\n",
      "[False False False False  True  True  True  True False False False False\n",
      " False False False False  True  True  True  True  True  True  True False]\n",
      "\n",
      "\n",
      "[ True  True  True  True  True  True  True  True  True  True  True  True\n",
      " False False False False  True  True  True  True  True False False False]\n",
      "\n",
      "\n",
      "[ True False False False False False False False  True  True  True  True\n",
      "  True  True  True  True False False False False  True  True  True  True]\n",
      "\n",
      "\n"
     ]
    }
   ],
   "source": []
  },
  {
   "cell_type": "code",
   "execution_count": 34,
   "metadata": {
    "collapsed": false
   },
   "outputs": [],
   "source": [
    "show_pil_image(digitImage)"
   ]
  },
  {
   "cell_type": "code",
   "execution_count": 42,
   "metadata": {
    "collapsed": false
   },
   "outputs": [
    {
     "data": {
      "image/jpeg": "[encoded data removed]",
      "text/plain": [
       "<IPython.core.display.Image object>"
      ]
     },
     "execution_count": 42,
     "metadata": {},
     "output_type": "execute_result"
    }
   ],
   "source": [
    "show('/tmp/pil_image.jpg')"
   ]
  },
  {
   "cell_type": "code",
   "execution_count": null,
   "metadata": {
    "collapsed": true
   },
   "outputs": [],
   "source": []
  }
 ],
 "metadata": {
  "kernelspec": {
   "display_name": "Python 2",
   "language": "python",
   "name": "python2"
  },
  "language_info": {
   "codemirror_mode": {
    "name": "ipython",
    "version": 2
   },
   "file_extension": ".py",
   "mimetype": "text/x-python",
   "name": "python",
   "nbconvert_exporter": "python",
   "pygments_lexer": "ipython2",
   "version": "2.7.9"
  }
 },
 "nbformat": 4,
 "nbformat_minor": 0
}
